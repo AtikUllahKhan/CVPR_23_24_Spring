{
 "cells": [
  {
   "cell_type": "code",
   "execution_count": 1,
   "id": "3bafea5a",
   "metadata": {},
   "outputs": [
    {
     "name": "stdout",
     "output_type": "stream",
     "text": [
      "[1, 2, 3, 4, 5, 6, 7, 8, 9, 10]\n",
      "[1, 4, 9, 16, 25, 36, 49, 64, 81, 100]\n",
      "440\n"
     ]
    }
   ],
   "source": [
    "a_list = [1,2,3,4,5,6,7,8,9,10]\n",
    "\n",
    "sqrt_list = [x**2 for x in a_list]\n",
    "\n",
    "Sum_result =sum(a_list +sqr_list)\n",
    "\n",
    "print(a_list)\n",
    "print(sqr_list)\n",
    "print(Sum_result)"
   ]
  },
  {
   "cell_type": "code",
   "execution_count": 8,
   "id": "6b9f773e",
   "metadata": {},
   "outputs": [
    {
     "name": "stdout",
     "output_type": "stream",
     "text": [
      "(2, 4, 6, 8, 10)\n",
      "(4, 16, 36, 64, 100)\n"
     ]
    }
   ],
   "source": [
    "b_tuple=tuple(range(2,12,2))\n",
    "print(b_tuple)\n",
    "print(tuple(map(lambda a:a*a,b_tuple)))"
   ]
  },
  {
   "cell_type": "code",
   "execution_count": 15,
   "id": "91670904",
   "metadata": {},
   "outputs": [
    {
     "name": "stdout",
     "output_type": "stream",
     "text": [
      "{1, 3, 5, 7, 9}\n",
      "{9, 3, 5, 7}\n",
      "{1, 3, 5, 7, 9}\n",
      "{9, 3, 5, 7}\n"
     ]
    }
   ],
   "source": [
    "a_set=set(range(1,10,2))\n",
    "b_set = set(range(3,10,2))\n",
    "print(a_set)\n",
    "print(b_set)\n",
    "print(a_set .union(b_set))\n",
    "print(a_set .intersection(b_set))"
   ]
  },
  {
   "cell_type": "code",
   "execution_count": 19,
   "id": "dfae0ced",
   "metadata": {},
   "outputs": [
    {
     "name": "stdout",
     "output_type": "stream",
     "text": [
      "{'a': 97, 'b': 98, 'c': 99, 'd': 100, 'e': 101} <class 'dict'>\n"
     ]
    }
   ],
   "source": [
    "alp_ascii = {'a': 97,'b':98,'c': 99,'d': 100,'e': 101}\n",
    "print(alp_ascii,type(alp_ascii))"
   ]
  },
  {
   "cell_type": "code",
   "execution_count": 23,
   "id": "f3042002",
   "metadata": {},
   "outputs": [
    {
     "name": "stdout",
     "output_type": "stream",
     "text": [
      "[1, 4, 9, 16, 25, 36, 49, 64, 81, 100]\n"
     ]
    }
   ],
   "source": [
    "def square(x):\n",
    "    return x**2\n",
    "print(list(map(square,range(1,11,1))))"
   ]
  },
  {
   "cell_type": "code",
   "execution_count": null,
   "id": "d44170cd",
   "metadata": {},
   "outputs": [],
   "source": []
  }
 ],
 "metadata": {
  "kernelspec": {
   "display_name": "Python 3 (ipykernel)",
   "language": "python",
   "name": "python3"
  },
  "language_info": {
   "codemirror_mode": {
    "name": "ipython",
    "version": 3
   },
   "file_extension": ".py",
   "mimetype": "text/x-python",
   "name": "python",
   "nbconvert_exporter": "python",
   "pygments_lexer": "ipython3",
   "version": "3.11.4"
  }
 },
 "nbformat": 4,
 "nbformat_minor": 5
}
